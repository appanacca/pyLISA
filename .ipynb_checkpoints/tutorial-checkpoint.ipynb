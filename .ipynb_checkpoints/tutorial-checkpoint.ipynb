{
 "cells": [
  {
   "cell_type": "markdown",
   "metadata": {},
   "source": [
    "## pyLisa Tutorial"
   ]
  },
  {
   "cell_type": "code",
   "execution_count": 2,
   "metadata": {
    "collapsed": false,
    "scrolled": true
   },
   "outputs": [
    {
     "name": "stdout",
     "output_type": "stream",
     "text": [
      "(-6723186936.05-2646071639.89j) (-18.103174802-52.1978418557j)\n",
      "new: (0.923233059519+0.0804003326809j)\n",
      "old: (0.922267707315+0.0796036519505j)\n",
      "diff: (0.000965352204411+0.000796680730408j)\n",
      "(5.48246507258e-05-0.000297631304481j)\n"
     ]
    }
   ],
   "source": [
    "import sapy.modal as sa\n",
    "import sapy.post as po\n",
    "import sapy.sensitivity as sn\n",
    "import pdb as pdb\n",
    "\n",
    "option = {'flow': 'DATA/G.txt',\n",
    "          'n_points': 200,\n",
    "          'lc': 0.16739,\n",
    "          'Ymax': 1000,\n",
    "          'yi': 10,\n",
    "          'alpha': 0.6,\n",
    "          'Re': 160,\n",
    "          'variables': 'v_eta',\n",
    "          'equation': 'Euler_CD',\n",
    "          'mapping': ['semi_infinite_PB', [0, (46.7/13.8)]],\n",
    "          'Froude': 0.02,\n",
    "          'slope': 1.3e-5}\n",
    "\n",
    "\n",
    "f = sa.fluid(option)\n",
    "\n",
    "f.diff_matrix()\n",
    "f.read_velocity_profile()\n",
    "f.mapping()\n",
    "f.interpolate()\n",
    "# f.set_blasisus(f.y)\n",
    "\n",
    "# f.infinite_mapping()\n",
    "# f.set_hyptan()\n",
    "# f.set_poiseuille()\n",
    "\n",
    "f.set_operator_variables()\n",
    "\n",
    "f.solve_eig()\n",
    "f.adjoint_spectrum_v_eta('cont')\n",
    "f.solve_eig_adj()\n",
    "\n",
    "f.save_sim('200_ve_cont')\n",
    "f.check_adj()\n",
    "\n",
    "\n",
    "\n",
    "\n",
    "v = po.viz('200_ve_cont.npz')\n",
    "v.plot_velocity()\n",
    "v.plot_spectrum()\n",
    "# f.omega_alpha_curves(0.0001,2,5\n",
    "\n",
    "om = sn.sensitivity(0.1, '200_ve_cont.npz', 16)\n",
    "#om.u_pert(0.4, 0.2)\n",
    "#om.cd_pert(0.5, 0.1)\n",
    "#om.c_per()\n",
    "\n",
    "#om.sens_spectrum('ke_u_N01_ve.png', per_variab='u')\n",
    "om.validation(0.2, 0.2)\n"
   ]
  },
  {
   "cell_type": "code",
   "execution_count": 2,
   "metadata": {
    "collapsed": true
   },
   "outputs": [],
   "source": [
    "import numpy as np\n",
    "from __future__ import division"
   ]
  },
  {
   "cell_type": "code",
   "execution_count": 57,
   "metadata": {
    "collapsed": false
   },
   "outputs": [],
   "source": [
    " def clencurt(N):\n",
    "    \"\"\" CLENCURT  nodes x (Chebyshev points) and weights \n",
    "    for Clenshaw-Curtis quadrature\"\"\"\n",
    "    \n",
    "    theta = np.pi*np.arange(0,N+1) / N\n",
    "    x = np.cos(theta)\n",
    "    w = np.zeros(N+1) \n",
    "    ii = np.arange(1,N) \n",
    "    v = np.ones(N-1)\n",
    "    if np.mod(N, 2) == 0:\n",
    "        w[0] = 1/ (N**2 -1)\n",
    "        w[-1] = w[0]\n",
    "        for k in np.arange(1, N/2):\n",
    "                v = v - 2*np.cos(2*k*theta[ii])/(4* k**2 -1)\n",
    "        v = v - np.cos(N*theta[ii])/(N**2-1)\n",
    "    else:\n",
    "        w[0] = 1/ N**2\n",
    "        w[-1] = w[0]\n",
    "        for k in np.arange(1, N/2):\n",
    "            v = v - 2*np.cos(2*k*theta[ii])/(4* k**2 -1) \n",
    "    w[ii] = 2*v/N\n",
    "    return x,w\n",
    "    "
   ]
  },
  {
   "cell_type": "code",
   "execution_count": 180,
   "metadata": {
    "collapsed": false
   },
   "outputs": [],
   "source": [
    "N = 40\n",
    "x, W = clencurt(N)"
   ]
  },
  {
   "cell_type": "code",
   "execution_count": 181,
   "metadata": {
    "collapsed": false
   },
   "outputs": [
    {
     "data": {
      "text/plain": [
       "array([  1.00000000e+00,   9.96917334e-01,   9.87688341e-01,\n",
       "         9.72369920e-01,   9.51056516e-01,   9.23879533e-01,\n",
       "         8.91006524e-01,   8.52640164e-01,   8.09016994e-01,\n",
       "         7.60405966e-01,   7.07106781e-01,   6.49448048e-01,\n",
       "         5.87785252e-01,   5.22498565e-01,   4.53990500e-01,\n",
       "         3.82683432e-01,   3.09016994e-01,   2.33445364e-01,\n",
       "         1.56434465e-01,   7.84590957e-02,   6.12323400e-17,\n",
       "        -7.84590957e-02,  -1.56434465e-01,  -2.33445364e-01,\n",
       "        -3.09016994e-01,  -3.82683432e-01,  -4.53990500e-01,\n",
       "        -5.22498565e-01,  -5.87785252e-01,  -6.49448048e-01,\n",
       "        -7.07106781e-01,  -7.60405966e-01,  -8.09016994e-01,\n",
       "        -8.52640164e-01,  -8.91006524e-01,  -9.23879533e-01,\n",
       "        -9.51056516e-01,  -9.72369920e-01,  -9.87688341e-01,\n",
       "        -9.96917334e-01,  -1.00000000e+00])"
      ]
     },
     "execution_count": 181,
     "metadata": {},
     "output_type": "execute_result"
    }
   ],
   "source": [
    "x"
   ]
  },
  {
   "cell_type": "code",
   "execution_count": 182,
   "metadata": {
    "collapsed": false
   },
   "outputs": [
    {
     "data": {
      "text/plain": [
       "array([ 0.00062539,  0.00601557,  0.01233804,  0.01830902,  0.02428549,\n",
       "        0.03004565,  0.0356637 ,  0.04103133,  0.046169  ,  0.05100387,\n",
       "        0.05553914,  0.05971946,  0.06354242,  0.06696406,  0.06998145,\n",
       "        0.0725595 ,  0.07469753,  0.07636811,  0.07757446,  0.07829613,\n",
       "        0.07854138,  0.07829613,  0.07757446,  0.07636811,  0.07469753,\n",
       "        0.0725595 ,  0.06998145,  0.06696406,  0.06354242,  0.05971946,\n",
       "        0.05553914,  0.05100387,  0.046169  ,  0.04103133,  0.0356637 ,\n",
       "        0.03004565,  0.02428549,  0.01830902,  0.01233804,  0.00601557,\n",
       "        0.00062539])"
      ]
     },
     "execution_count": 182,
     "metadata": {},
     "output_type": "execute_result"
    }
   ],
   "source": [
    "W"
   ]
  },
  {
   "cell_type": "code",
   "execution_count": 191,
   "metadata": {
    "collapsed": false
   },
   "outputs": [
    {
     "name": "stdout",
     "output_type": "stream",
     "text": [
      "0.666666666667\n"
     ]
    }
   ],
   "source": [
    "f = x**2\n",
    "I = W*f\n",
    "print np.sum(I)"
   ]
  },
  {
   "cell_type": "code",
   "execution_count": 192,
   "metadata": {
    "collapsed": false
   },
   "outputs": [],
   "source": [
    "a = -np.pi\n",
    "b = +np.pi\n",
    "y = (b - a) * 0.5 * x + (a + b) * 0.5\n",
    "#xi = np.zeros(N)\n",
    "xi = np.ones(N+1)*( (b-a)/2)\n",
    "Wn = xi *  W\n"
   ]
  },
  {
   "cell_type": "code",
   "execution_count": 193,
   "metadata": {
    "collapsed": false
   },
   "outputs": [
    {
     "name": "stdout",
     "output_type": "stream",
     "text": [
      "20.6708511202\n"
     ]
    }
   ],
   "source": [
    "f = y**2\n",
    "I = Wn*f\n",
    "print np.sum(I)"
   ]
  },
  {
   "cell_type": "code",
   "execution_count": 169,
   "metadata": {
    "collapsed": false
   },
   "outputs": [
    {
     "data": {
      "text/plain": [
       "array([ 1.,  1.,  1.,  1.,  1.,  1.,  1.,  1.])"
      ]
     },
     "execution_count": 169,
     "metadata": {},
     "output_type": "execute_result"
    }
   ],
   "source": [
    "np.ones(8)"
   ]
  },
  {
   "cell_type": "code",
   "execution_count": 163,
   "metadata": {
    "collapsed": false
   },
   "outputs": [
    {
     "data": {
      "text/plain": [
       "array([  1.00000000e+00,   9.96917334e-01,   9.87688341e-01,\n",
       "         9.72369920e-01,   9.51056516e-01,   9.23879533e-01,\n",
       "         8.91006524e-01,   8.52640164e-01,   8.09016994e-01,\n",
       "         7.60405966e-01,   7.07106781e-01,   6.49448048e-01,\n",
       "         5.87785252e-01,   5.22498565e-01,   4.53990500e-01,\n",
       "         3.82683432e-01,   3.09016994e-01,   2.33445364e-01,\n",
       "         1.56434465e-01,   7.84590957e-02,   6.12323400e-17,\n",
       "        -7.84590957e-02,  -1.56434465e-01,  -2.33445364e-01,\n",
       "        -3.09016994e-01,  -3.82683432e-01,  -4.53990500e-01,\n",
       "        -5.22498565e-01,  -5.87785252e-01,  -6.49448048e-01,\n",
       "        -7.07106781e-01,  -7.60405966e-01,  -8.09016994e-01,\n",
       "        -8.52640164e-01,  -8.91006524e-01,  -9.23879533e-01,\n",
       "        -9.51056516e-01,  -9.72369920e-01,  -9.87688341e-01,\n",
       "        -9.96917334e-01,  -1.00000000e+00])"
      ]
     },
     "execution_count": 163,
     "metadata": {},
     "output_type": "execute_result"
    }
   ],
   "source": [
    "x"
   ]
  },
  {
   "cell_type": "code",
   "execution_count": 154,
   "metadata": {
    "collapsed": false
   },
   "outputs": [
    {
     "data": {
      "text/plain": [
       "array([  1.00000000e+00,   9.96917334e-01,   9.87688341e-01,\n",
       "         9.72369920e-01,   9.51056516e-01,   9.23879533e-01,\n",
       "         8.91006524e-01,   8.52640164e-01,   8.09016994e-01,\n",
       "         7.60405966e-01,   7.07106781e-01,   6.49448048e-01,\n",
       "         5.87785252e-01,   5.22498565e-01,   4.53990500e-01,\n",
       "         3.82683432e-01,   3.09016994e-01,   2.33445364e-01,\n",
       "         1.56434465e-01,   7.84590957e-02,   6.12323400e-17,\n",
       "        -7.84590957e-02,  -1.56434465e-01,  -2.33445364e-01,\n",
       "        -3.09016994e-01,  -3.82683432e-01,  -4.53990500e-01,\n",
       "        -5.22498565e-01,  -5.87785252e-01,  -6.49448048e-01,\n",
       "        -7.07106781e-01,  -7.60405966e-01,  -8.09016994e-01,\n",
       "        -8.52640164e-01,  -8.91006524e-01,  -9.23879533e-01,\n",
       "        -9.51056516e-01,  -9.72369920e-01,  -9.87688341e-01,\n",
       "        -9.96917334e-01,  -1.00000000e+00])"
      ]
     },
     "execution_count": 154,
     "metadata": {},
     "output_type": "execute_result"
    }
   ],
   "source": [
    "x"
   ]
  },
  {
   "cell_type": "code",
   "execution_count": 111,
   "metadata": {
    "collapsed": true
   },
   "outputs": [],
   "source": [
    "import matplotlib.pyplot as plt"
   ]
  },
  {
   "cell_type": "code",
   "execution_count": 112,
   "metadata": {
    "collapsed": false
   },
   "outputs": [],
   "source": [
    "plt.plot(y,f)\n",
    "plt.show()"
   ]
  },
  {
   "cell_type": "code",
   "execution_count": 113,
   "metadata": {
    "collapsed": false
   },
   "outputs": [
    {
     "name": "stdout",
     "output_type": "stream",
     "text": [
      "2.25514051877e-17\n"
     ]
    }
   ],
   "source": [
    "from scipy.integrate import trapz\n",
    "print trapz(y,f)"
   ]
  },
  {
   "cell_type": "code",
   "execution_count": null,
   "metadata": {
    "collapsed": true
   },
   "outputs": [],
   "source": []
  },
  {
   "cell_type": "code",
   "execution_count": null,
   "metadata": {
    "collapsed": true
   },
   "outputs": [],
   "source": []
  }
 ],
 "metadata": {
  "kernelspec": {
   "display_name": "Python 2",
   "language": "python",
   "name": "python2"
  },
  "language_info": {
   "codemirror_mode": {
    "name": "ipython",
    "version": 2
   },
   "file_extension": ".py",
   "mimetype": "text/x-python",
   "name": "python",
   "nbconvert_exporter": "python",
   "pygments_lexer": "ipython2",
   "version": "2.7.10"
  }
 },
 "nbformat": 4,
 "nbformat_minor": 0
}
