{
 "cells": [
  {
   "cell_type": "markdown",
   "metadata": {},
   "source": [
    "## Validation"
   ]
  },
  {
   "cell_type": "code",
   "execution_count": 8,
   "metadata": {
    "collapsed": false,
    "scrolled": true
   },
   "outputs": [],
   "source": [
    "from __future__ import division\n",
    "import sapy.modal as sa\n",
    "import sapy.post as po\n",
    "import sapy.sensitivity as sn\n",
    "import pdb as pdb"
   ]
  },
  {
   "cell_type": "code",
   "execution_count": 2,
   "metadata": {
    "collapsed": true
   },
   "outputs": [],
   "source": [
    "option = {'flow': 'couette',\n",
    "          'n_points': 300,\n",
    "          'lc': 0.16739,\n",
    "          'Ymax': 1000,\n",
    "          'yi': 10,\n",
    "          'alpha': 1,\n",
    "          'Re': 1000,\n",
    "          'variables': 'v_eta',\n",
    "          'equation': 'LNS',\n",
    "          'mapping': ['semi_infinite_PB', [0, (46.7/13.8)]],\n",
    "          'Froude': 0.02,\n",
    "          'slope': 1.3e-5}"
   ]
  },
  {
   "cell_type": "code",
   "execution_count": 3,
   "metadata": {
    "collapsed": false
   },
   "outputs": [
    {
     "name": "stdout",
     "output_type": "stream",
     "text": [
      "(-733.664550176-1027.24112801j) (0.358346211632-6.6308999615e-08j)\n"
     ]
    }
   ],
   "source": [
    "f = sa.fluid(option)\n",
    "f.diff_matrix()\n",
    "f.set_couette()\n",
    "f.integ_matrix()\n",
    "\n",
    "f.set_operator_variables()\n",
    "\n",
    "f.solve_eig()\n",
    "f.adjoint_spectrum_v_eta('cont')\n",
    "f.solve_eig_adj()\n",
    "\n",
    "f.save_sim('cou_disc')\n",
    "f.check_adj()"
   ]
  },
  {
   "cell_type": "code",
   "execution_count": 4,
   "metadata": {
    "collapsed": false
   },
   "outputs": [],
   "source": [
    "v = po.viz('cou_disc.npz')\n",
    "v.plot_velocity()\n",
    "v.plot_spectrum()"
   ]
  },
  {
   "cell_type": "code",
   "execution_count": 6,
   "metadata": {
    "collapsed": false
   },
   "outputs": [
    {
     "name": "stdout",
     "output_type": "stream",
     "text": [
      "new: (-0.606869680786-0.117713156877j)\n",
      "old: (-0.605309577661-0.119174536661j)\n",
      "diff: (-0.00156010312505+0.00146137978313j)\n",
      "(3.62469348646e-07+7.37206203924e-07j)\n"
     ]
    }
   ],
   "source": [
    "om = sn.sensitivity(0.001, 'cou_disc.npz', 258)\n",
    "#om.u_pert(0.4, 0.2)\n",
    "#om.cd_pert(0.5, 0.1)\n",
    "#om.c_per()\n",
    "\n",
    "#om.sens_spectrum('ke_u_N01_ve.png', per_variab='u')\n",
    "om.validation(-0.6, 0.1, 258)"
   ]
  },
  {
   "cell_type": "code",
   "execution_count": null,
   "metadata": {
    "collapsed": true
   },
   "outputs": [],
   "source": []
  }
 ],
 "metadata": {
  "kernelspec": {
   "display_name": "Python 2",
   "language": "python",
   "name": "python2"
  },
  "language_info": {
   "codemirror_mode": {
    "name": "ipython",
    "version": 2
   },
   "file_extension": ".py",
   "mimetype": "text/x-python",
   "name": "python",
   "nbconvert_exporter": "python",
   "pygments_lexer": "ipython2",
   "version": "2.7.10"
  }
 },
 "nbformat": 4,
 "nbformat_minor": 0
}
